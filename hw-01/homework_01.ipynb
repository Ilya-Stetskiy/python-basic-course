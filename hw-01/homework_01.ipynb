{
 "cells": [
  {
   "cell_type": "markdown",
   "id": "5c258e2b",
   "metadata": {},
   "source": [
    "# Workshop 1: Базовые типы и структуры. Часть 1"
   ]
  },
  {
   "cell_type": "markdown",
   "id": "46e98e1c",
   "metadata": {},
   "source": [
    "## 1. Условный оператор `if-else`, циклы `for` и `while`"
   ]
  },
  {
   "cell_type": "markdown",
   "id": "a695bf38",
   "metadata": {},
   "source": [
    "#### 1.1. Запросить число `n` от пользователя и вычислить сумму всех чисел от 1 до `n`, включая `n`."
   ]
  },
  {
   "cell_type": "code",
   "execution_count": null,
   "id": "5df6cb33",
   "metadata": {},
   "outputs": [],
   "source": [
    "s=0\n",
    "n=int(input())\n",
    "for i in range (n+1):\n",
    "  s+=i\n",
    "print (s)"
   ]
  },
  {
   "cell_type": "markdown",
   "id": "5835ac87",
   "metadata": {},
   "source": [
    "#### 1.2. Отобразить числа от -10 до -1, используя цикл `for`."
   ]
  },
  {
   "cell_type": "code",
   "execution_count": null,
   "id": "2970679f",
   "metadata": {},
   "outputs": [],
   "source": [
    "for i in range (-10,0):\n",
    "  print(i)"
   ]
  },
  {
   "cell_type": "markdown",
   "id": "075cc101",
   "metadata": {},
   "source": [
    "#### 1.3. Получив на вход список, итеративно пройти по нему и вывести числа, которые делятся на 5. Если в процессе итераций встретится число, большее 120, остановить цикл."
   ]
  },
  {
   "cell_type": "code",
   "execution_count": null,
   "id": "06165d24",
   "metadata": {},
   "outputs": [],
   "source": [
    "spisok=input().split()\n",
    "#print(spisok)\n",
    "for i in spisok:\n",
    "  if int(i)>120: break\n",
    "  if int(i)%5==0: print(i)"
   ]
  },
  {
   "cell_type": "markdown",
   "id": "6d459f21",
   "metadata": {},
   "source": [
    "#### 1.4. Вывести в консоль следующий паттерн:\n",
    "```\n",
    "5 4 3 2 1\n",
    "4 3 2 1\n",
    "3 2 1\n",
    "2 1\n",
    "1\n",
    "```"
   ]
  },
  {
   "cell_type": "code",
   "execution_count": null,
   "id": "8cc5516a",
   "metadata": {},
   "outputs": [],
   "source": [
    "n=int(input())\n",
    "for i in range (n+1):\n",
    "  for j in range (n-i,0,-1):\n",
    "    print(j,end=' ')\n",
    "  print('')"
   ]
  },
  {
   "cell_type": "markdown",
   "id": "f96046bb",
   "metadata": {},
   "source": [
    "#### 1.5. Получив на вход целочисленное число (`int`), определить общее число цифр в нем."
   ]
  },
  {
   "cell_type": "code",
   "execution_count": null,
   "id": "b31c6a36",
   "metadata": {},
   "outputs": [],
   "source": [
    "print(len(str(int(input()))))"
   ]
  },
  {
   "cell_type": "markdown",
   "id": "1d5230ab",
   "metadata": {},
   "source": [
    "#### 1.6. Получив на вход список (`list`), обратить его с помощью цикла `for`"
   ]
  },
  {
   "cell_type": "code",
   "execution_count": null,
   "id": "42f1f62f",
   "metadata": {},
   "outputs": [],
   "source": [
    "spisok=input().split()\n",
    "for i in range(len(spisok)):\n",
    "  print(spisok[-i-1],end=' ')"
   ]
  },
  {
   "cell_type": "markdown",
   "id": "9c249bbe",
   "metadata": {},
   "source": [
    "#### 1.7. Написать произвольный цикл, содержащий условие внтури, и вывести сообщение \"Done\" в случае, если условие ни разу не выполнилось. NOTE: не используя дополнительные переменные."
   ]
  },
  {
   "cell_type": "code",
   "execution_count": null,
   "id": "e6db7d8d",
   "metadata": {},
   "outputs": [],
   "source": [
    "n=int(input())\n",
    "for i in range (5):\n",
    "  if i+1==n:\n",
    "    print (\"your number is\", i+1)\n",
    "    break\n",
    "else: print (\"your number more then 5\")"
   ]
  },
  {
   "cell_type": "markdown",
   "id": "49141bf4",
   "metadata": {},
   "source": [
    "## 2. Функции, аргументы функций, встроенные функции"
   ]
  },
  {
   "cell_type": "markdown",
   "id": "da923fbf",
   "metadata": {},
   "source": [
    "#### 2.1. Напишите функцию `calculation()` таким образом, чтобы она могла принимать две переменные и вычислять их сложение и вычитание. А также она должна возвращать как сложение, так и вычитание за один вызов."
   ]
  },
  {
   "cell_type": "code",
   "execution_count": 1,
   "id": "12865084",
   "metadata": {},
   "outputs": [
    {
     "name": "stdout",
     "output_type": "stream",
     "text": [
      "(12, -2)\n"
     ]
    }
   ],
   "source": [
    "def calculation(x,y):\n",
    "    return (x+y,x-y)\n",
    "\n",
    "print(calculation(5,7))"
   ]
  },
  {
   "cell_type": "markdown",
   "id": "b3aad320",
   "metadata": {},
   "source": [
    "#### 2.2. Напишите функцию `showEmployee()` таким образом, чтобы она принимала имя сотрудника и его зарплату и отображала и то, и другое. А если зарплата отсутствует при вызове функции, функция должна отображать ее равную 9000."
   ]
  },
  {
   "cell_type": "code",
   "execution_count": 2,
   "id": "1985780b",
   "metadata": {},
   "outputs": [
    {
     "name": "stdout",
     "output_type": "stream",
     "text": [
      "person1 7000\n",
      "person2 9000\n"
     ]
    }
   ],
   "source": [
    "def showEmployee(name, pay=9000):\n",
    "    print(name, pay)\n",
    "\n",
    "showEmployee(\"person1\", 7000)\n",
    "showEmployee(\"person2\")"
   ]
  },
  {
   "cell_type": "markdown",
   "id": "19197ff0",
   "metadata": {},
   "source": [
    "#### 2.3. Напишите рекурсивную функцию для вычисления чисел от 0 до 10."
   ]
  },
  {
   "cell_type": "code",
   "execution_count": 4,
   "id": "792607dd",
   "metadata": {},
   "outputs": [
    {
     "name": "stdout",
     "output_type": "stream",
     "text": [
      "0\n",
      "1\n",
      "2\n",
      "3\n",
      "4\n",
      "5\n",
      "6\n",
      "7\n",
      "8\n",
      "9\n",
      "10\n"
     ]
    }
   ],
   "source": [
    "def calculate(i=0):\n",
    "    print(i)\n",
    "    if i<10: calculate(i+1)\n",
    "\n",
    "calculate()"
   ]
  },
  {
   "cell_type": "markdown",
   "id": "36080579",
   "metadata": {},
   "source": [
    "#### 2.4. Напишите функцию таким образом, чтобы она могла принимать переменное количество аргументов и выводить значение всех этих аргументов."
   ]
  },
  {
   "cell_type": "code",
   "execution_count": 6,
   "id": "e914b52b",
   "metadata": {},
   "outputs": [
    {
     "name": "stdout",
     "output_type": "stream",
     "text": [
      "123 hello 55 \n",
      "it was the best lesson "
     ]
    }
   ],
   "source": [
    "def printer(*args):\n",
    "    for arg in args:\n",
    "        print(arg, end=' ')\n",
    "        \n",
    "printer(123,\"hello\", 55)\n",
    "print()\n",
    "printer(\"it\", \"was\", \"the\", \"best\", \"lesson\")"
   ]
  },
  {
   "cell_type": "markdown",
   "id": "75b4d257",
   "metadata": {},
   "source": [
    "#### 2.5. Напишите произвольную функцию, после этого присвойте ей другое имя, а затем вызовите ее с помощью нового имени."
   ]
  },
  {
   "cell_type": "code",
   "execution_count": 7,
   "id": "64f882f3",
   "metadata": {},
   "outputs": [
    {
     "name": "stdout",
     "output_type": "stream",
     "text": [
      "hey\n"
     ]
    }
   ],
   "source": [
    "def printOr():\n",
    "    print(\"hey\") \n",
    "printer=printOr\n",
    "printer()"
   ]
  },
  {
   "cell_type": "markdown",
   "id": "a6a9ec34",
   "metadata": {},
   "source": [
    "#### 2.6. Сгенерируйте список всех четных чисел от 4 до 40."
   ]
  },
  {
   "cell_type": "code",
   "execution_count": 12,
   "id": "9b3e0a72",
   "metadata": {},
   "outputs": [
    {
     "name": "stdout",
     "output_type": "stream",
     "text": [
      "[4, 6, 8, 10, 12, 14, 16, 18, 20, 22, 24, 26, 28, 30, 32, 34, 36, 38, 40]\n"
     ]
    }
   ],
   "source": [
    "def spisok():\n",
    "    return list(range(4,41,2))\n",
    "print(spisok())"
   ]
  },
  {
   "cell_type": "markdown",
   "id": "514a3c3d",
   "metadata": {},
   "source": [
    "#### 2.7. Вернуть наибольший элемент из произвольного списка"
   ]
  },
  {
   "cell_type": "code",
   "execution_count": 39,
   "id": "a9a0c263",
   "metadata": {},
   "outputs": [
    {
     "data": {
      "text/plain": [
       "'12'"
      ]
     },
     "execution_count": 39,
     "metadata": {},
     "output_type": "execute_result"
    }
   ],
   "source": [
    "def maximum(list):\n",
    "    max=list[0]\n",
    "    for i in list:\n",
    "        if int(i)>int(max): max=i\n",
    "    return max\n",
    "\n",
    "maximum(input().split())"
   ]
  },
  {
   "cell_type": "markdown",
   "id": "e4227158",
   "metadata": {},
   "source": [
    "## 3. Строки и операции над ними"
   ]
  },
  {
   "cell_type": "markdown",
   "id": "4b35ffba",
   "metadata": {},
   "source": [
    "#### 3.1. Получив на вход строку нечетной длины, вернуть строку, состоящую из трех стредних символов этой строки."
   ]
  },
  {
   "cell_type": "code",
   "execution_count": 32,
   "id": "7d46fc37",
   "metadata": {},
   "outputs": [
    {
     "name": "stdout",
     "output_type": "stream",
     "text": [
      "345\n"
     ]
    }
   ],
   "source": [
    "a=input()\n",
    "print(a[(len(a)//2-1):(len(a)//2+2)])"
   ]
  },
  {
   "cell_type": "markdown",
   "id": "92f1c30c",
   "metadata": {},
   "source": [
    "#### 3.2. Получив на вход 2 строки `s1` и `s2`, создать новую строку, добавив `s2` в середину `s1`."
   ]
  },
  {
   "cell_type": "code",
   "execution_count": 35,
   "id": "fa368156",
   "metadata": {},
   "outputs": [
    {
     "name": "stdout",
     "output_type": "stream",
     "text": [
      "12hello345\n"
     ]
    }
   ],
   "source": [
    "s1=input()\n",
    "s2=input()\n",
    "print(s1[:(len(s1)//2)],s2,s1[(len(s1)//2):], sep='')"
   ]
  },
  {
   "cell_type": "markdown",
   "id": "fdfe7136",
   "metadata": {},
   "source": [
    "#### 3.3. Расположить строковые символы в произвольной строке таким образом, чтобы строчные буквы были первыми."
   ]
  },
  {
   "cell_type": "code",
   "execution_count": 46,
   "id": "6f274712",
   "metadata": {},
   "outputs": [
    {
     "data": {
      "text/plain": [
       "\"['a', 'a', 'A', 'A', 'A', 'A', 'A', 'A']\""
      ]
     },
     "execution_count": 46,
     "metadata": {},
     "output_type": "execute_result"
    }
   ],
   "source": [
    "a=list(input().swapcase())\n",
    "str(sorted(a)).swapcase()"
   ]
  },
  {
   "cell_type": "markdown",
   "id": "7238f24d",
   "metadata": {},
   "source": [
    "#### 3.4. Получив на вход строку, посчитать количество строчных и заглавных букв, цифр и специальных символов."
   ]
  },
  {
   "cell_type": "code",
   "execution_count": 48,
   "id": "a581f214",
   "metadata": {},
   "outputs": [
    {
     "name": "stdout",
     "output_type": "stream",
     "text": [
      "aaaAAAAAA//\n",
      "6 3 2\n"
     ]
    }
   ],
   "source": [
    "s=input()\n",
    "print(s)\n",
    "print(sum(i.isupper() for i in s), sum(i.islower() for i in s), len(s)-sum(i.isalnum() for i in s))"
   ]
  },
  {
   "cell_type": "markdown",
   "id": "9791e5e7",
   "metadata": {},
   "source": [
    "#### 3.5. Найдите все вхождения слова \"Python\" в заданной строке, игнорируя регистр."
   ]
  },
  {
   "cell_type": "code",
   "execution_count": 50,
   "id": "77351b7e",
   "metadata": {},
   "outputs": [
    {
     "name": "stdout",
     "output_type": "stream",
     "text": [
      "3\n"
     ]
    }
   ],
   "source": [
    "s=\"AAAAApythonsdfsfPyThONbbbbbPYTHON\"\n",
    "print(s.lower().count(\"python\"))"
   ]
  },
  {
   "cell_type": "markdown",
   "id": "96f1aae1",
   "metadata": {},
   "source": [
    "#### 3.6. Получив на вход строку, состоящую из букв и цифр, вернуть сумму и среднее значение чисел, которые повляются в ней, игнорируя все остальные символы."
   ]
  },
  {
   "cell_type": "code",
   "execution_count": 69,
   "id": "44f2df97",
   "metadata": {},
   "outputs": [
    {
     "name": "stdout",
     "output_type": "stream",
     "text": [
      "26 8.666666666666666\n"
     ]
    }
   ],
   "source": [
    "def summator(list):\n",
    "    sum=0\n",
    "    for i in list:\n",
    "        sum+=int(i)\n",
    "    return sum\n",
    "\n",
    "s=\"aaaa1bb22nnn3\"\n",
    "num=\" \"\n",
    "for i in s:\n",
    "    if i.isalpha(): \n",
    "        num+=\" \"\n",
    "    else: num+=i\n",
    "\n",
    "res=num.split()\n",
    "print(summator(res), summator(res)/len(res) )\n"
   ]
  },
  {
   "cell_type": "markdown",
   "id": "7d5e0a98",
   "metadata": {},
   "source": [
    "#### 3.7. Получив на вход произвольную строку, подсчитать количество вхождений всех символов в этой строке."
   ]
  },
  {
   "cell_type": "code",
   "execution_count": 78,
   "id": "b5ec33cf",
   "metadata": {},
   "outputs": [
    {
     "name": "stdout",
     "output_type": "stream",
     "text": [
      "['1', '2', '2', '3', 'a', 'a', 'a', 'a', 'a', 'a', 'b', 'b', 'n', 'n', 'n']\n",
      "1 - 1\n",
      "2 - 2\n",
      "3 - 1\n",
      "a - 6\n",
      "b - 2\n",
      "n - 3\n"
     ]
    }
   ],
   "source": [
    "s=\"aaaa1bb22nnaan3\"\n",
    "letters = [i for i in s]\n",
    "letters.sort()\n",
    "print(letters)\n",
    "i=0\n",
    "while i<len(letters):\n",
    "    print(letters[i], \"-\", letters.count(letters[i]))\n",
    "    i+=letters.count(letters[i])"
   ]
  }
 ],
 "metadata": {
  "kernelspec": {
   "display_name": "Python 3 (ipykernel)",
   "language": "python",
   "name": "python3"
  },
  "language_info": {
   "codemirror_mode": {
    "name": "ipython",
    "version": 3
   },
   "file_extension": ".py",
   "mimetype": "text/x-python",
   "name": "python",
   "nbconvert_exporter": "python",
   "pygments_lexer": "ipython3",
   "version": "3.8.10"
  }
 },
 "nbformat": 4,
 "nbformat_minor": 5
}
